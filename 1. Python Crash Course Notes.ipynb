{
 "cells": [
  {
   "cell_type": "code",
   "execution_count": 2,
   "metadata": {},
   "outputs": [
    {
     "data": {
      "text/plain": [
       "'2.0.3'"
      ]
     },
     "execution_count": 2,
     "metadata": {},
     "output_type": "execute_result"
    }
   ],
   "source": [
    "import pandas\n",
    "pandas.__version__"
   ]
  },
  {
   "cell_type": "markdown",
   "metadata": {},
   "source": [
    "<font size=5>General Notes</font>"
   ]
  },
  {
   "cell_type": "markdown",
   "metadata": {},
   "source": [
    "<font size=3> One can use Visual Studio Code (VSCode) to use Jupyter notebooks. However appropriate python packages must be pre-installed. Create a file with “ipynb” on VSCode or open it with VSCode. Press ctrl+shift+p and type Python:Select Interpreter. Select the python package."
   ]
  },
  {
   "cell_type": "markdown",
   "metadata": {},
   "source": [
    "<font size=3>? Importing Environment in VSCode? Python version, Jupyter version?"
   ]
  },
  {
   "cell_type": "markdown",
   "metadata": {},
   "source": [
    "<font size=6>Basic Python</font>"
   ]
  },
  {
   "cell_type": "code",
   "execution_count": 9,
   "metadata": {},
   "outputs": [
    {
     "name": "stdout",
     "output_type": "stream",
     "text": [
      "My name is Arushi\n",
      "My name is Arushi\n"
     ]
    }
   ],
   "source": [
    "##print\n",
    "print('My name is {}'.format('Arushi'))\n",
    "print('My name is {X}'.format(X='Arushi'))"
   ]
  },
  {
   "cell_type": "markdown",
   "metadata": {},
   "source": [
    "<font size='5'>1. Data Strctures"
   ]
  },
  {
   "cell_type": "code",
   "execution_count": 57,
   "metadata": {},
   "outputs": [
    {
     "name": "stdout",
     "output_type": "stream",
     "text": [
      "----list operations----\n",
      "[1, 5, 7]\n",
      "7\n",
      "----negative indexing----\n",
      "7\n",
      "----update list items----\n",
      "['first', 5, 7, 'last']\n",
      "----nested list----\n",
      "['first', 5, 7, 'last', [23, 'next1']]\n",
      "next1\n",
      "----dictionaries----\n",
      "{'key1': 'value1', 'key2': 'value2'}\n",
      "value2\n",
      "----boolean----\n",
      "1\n",
      "----tuples----\n",
      "1\n",
      "----set----\n",
      "{'New', 1, 2, 5}\n"
     ]
    }
   ],
   "source": [
    "##\n",
    "a=0\n",
    "print('----list operations----')\n",
    "ml=[1,5,7]\n",
    "print(ml)\n",
    "print(ml[2]) \n",
    "\n",
    "##\n",
    "print('----negative indexing----')\n",
    "print(ml[-1])\n",
    "\n",
    "##\n",
    "print('----update list items----')\n",
    "ml[0]='first'\n",
    "ml.append('last')\n",
    "print(ml)\n",
    "\n",
    "##\n",
    "print('----nested list----')\n",
    "ml.append([23,'next1'])\n",
    "print(ml)\n",
    "print(ml[4][1])\n",
    "\n",
    "##\n",
    "print('----dictionaries----')\n",
    "dn={'key1':'value1','key2':'value2'}\n",
    "print(dn)\n",
    "print(dn['key2'])\n",
    "##nested dictionaries\n",
    "d = {'k1':[1,2,3,{'tricky':['oh','man','inception',{'target':[1,2,3,'hello']}]}]}\n",
    "l=list(list(list(d.values())[0][3].values())[0][3].values())[0][3]\n",
    "print(l)\n",
    "\n",
    "##\n",
    "print('----boolean----')\n",
    "boole=[True,False,1,0]\n",
    "print(1)\n",
    "\n",
    "##\n",
    "print('----tuples----')\n",
    "tup=(1,4,5,6)\n",
    "print(tup[0])\n",
    "#tup[0]=18 ##Error: tuples cannot be changed\n",
    "\n",
    "##\n",
    "print('----set----')\n",
    "#it reduces the repeting instances\n",
    "st={1,2,2,2,2,5,5,'New','New'}\n",
    "print(st)"
   ]
  },
  {
   "cell_type": "markdown",
   "metadata": {},
   "source": [
    "<font size='5'>2. Condtions and Logical operators"
   ]
  },
  {
   "cell_type": "code",
   "execution_count": 78,
   "metadata": {},
   "outputs": [
    {
     "name": "stdout",
     "output_type": "stream",
     "text": [
      "True\n",
      "False\n",
      "True\n",
      "True\n",
      "True\n",
      "---logical operators---\n",
      "True\n",
      "True\n",
      "---if else---\n",
      "3==3\n",
      "---for Loop---\n",
      "1\n",
      "2\n",
      "3\n",
      "new\n",
      "5\n",
      "---while loop---\n",
      "1\n",
      "2\n",
      "3\n"
     ]
    }
   ],
   "source": [
    "print('A'=='A')\n",
    "print('A'=='a')\n",
    "print(3>1)\n",
    "print(1<=4)\n",
    "print(1!=2)\n",
    "\n",
    "##\n",
    "print('---logical operators---')\n",
    "print('A'=='A'and 1!=2)\n",
    "print('A'=='A'or 1>2)\n",
    "\n",
    "##\n",
    "print('---if else---')\n",
    "if 1<0: print(\"Yes\")\n",
    "elif 3==3: print(\"3==3\")\n",
    "else:print(\"no\")"
   ]
  },
  {
   "cell_type": "code",
   "execution_count": 95,
   "metadata": {},
   "outputs": [
    {
     "name": "stdout",
     "output_type": "stream",
     "text": [
      "---for Loop---\n",
      "1\n",
      "2\n",
      "3\n",
      "new\n",
      "5\n",
      "---while loop---\n",
      "1\n",
      "2\n",
      "3\n",
      "--range function--\n",
      "[0, 1, 2, 3, 4] [2, 6, 10, 14, 18]\n",
      "2\n",
      "6\n",
      "10\n",
      "14\n",
      "18\n",
      "---List Comprehension---\n",
      "[1, 4, 9, 16, 25]\n",
      "[1, 4, 9, 16, 25]\n"
     ]
    }
   ],
   "source": [
    "##loops\n",
    "print('---for Loop---')\n",
    "ar=[1,2,3,'new',5]\n",
    "for p in ar:\n",
    "    print(p)\n",
    "\n",
    "print('---while loop---')\n",
    "i=0\n",
    "while ar[i]!=\"new\":\n",
    "    print(ar[i]) \n",
    "    i=i+1\n",
    "    \n",
    "print('--range function--')\n",
    "a=list(range(5))\n",
    "b=list(range(2,20,4))\n",
    "print(a,b)\n",
    "\n",
    "for i in range(5):\n",
    "    print(b[i]) \n",
    "    \n",
    "##\n",
    "print(\"---List Comprehension---\")\n",
    "ser=[]\n",
    "for i in range(1,6):\n",
    "    ser.append(i**2) ##squaring\n",
    "print(ser)\n",
    "\n",
    "##instead use\n",
    "ser1=[i**2 for i in range(1,6)] \n",
    "print(ser)"
   ]
  },
  {
   "cell_type": "code",
   "execution_count": 1,
   "metadata": {},
   "outputs": [
    {
     "name": "stdout",
     "output_type": "stream",
     "text": [
      "---function making---\n",
      "11 10\n",
      "Return is blank then i= None\n",
      "Return gives a function hence iDef= 11\n"
     ]
    },
    {
     "data": {
      "text/plain": [
       "['soup', 'salad']"
      ]
     },
     "execution_count": 1,
     "metadata": {},
     "output_type": "execute_result"
    }
   ],
   "source": [
    "print(\"---function making---\")\n",
    "\n",
    "def nfunc(i):\n",
    "    '''Adds 10 to the given number''' ##function definition\n",
    "    i=i+10\n",
    "    #return''  #without return'' it'll return \"None\" in print()\n",
    "\n",
    "def nfuncDef(i=0): #default function can run even when there is no value given to attribute during function call\n",
    " return i+10\n",
    "\n",
    "print(nfuncDef(1),nfuncDef())\n",
    "\n",
    "i=nfunc(1) ##gives output of the function (as 11) but i stores value of return\n",
    "print(\"Return is blank then i=\",i)\n",
    "\n",
    "iDef=nfuncDef(1)\n",
    "print(\"Return gives a function hence iDef=\",iDef)\n",
    "\n",
    "lambda i: i*2\n",
    "\n",
    "##Using lambda with filter function\n",
    "seq = ['soup','dog','salad','cat','great']\n",
    "a=[]\n",
    "list(filter(lambda st: 's' in st,seq))"
   ]
  },
  {
   "cell_type": "code",
   "execution_count": 132,
   "metadata": {},
   "outputs": [
    {
     "name": "stdout",
     "output_type": "stream",
     "text": [
      "stringfunc\n",
      "I'M GROOT!\n",
      "i'm groot!\n",
      "[\"I'm\", 'Groot!']\n",
      "['I', 'm Groot!']\n",
      "m Groot!\n"
     ]
    }
   ],
   "source": [
    "print(\"stringfunc\")\n",
    "st=\"I'm Groot!\"\n",
    "print(st.upper())\n",
    "print(st.lower())\n",
    "print(st.split())\n",
    "print(st.split(\"'\"))\n",
    "print(st.split(\"'\")[-1])#last item in the array"
   ]
  },
  {
   "cell_type": "code",
   "execution_count": 138,
   "metadata": {},
   "outputs": [
    {
     "name": "stdout",
     "output_type": "stream",
     "text": [
      "dictionary\n",
      "dict_keys(['key1', 'key2'])\n",
      "dict_items([('key1', 'V1'), ('key2', 'V2')])\n"
     ]
    }
   ],
   "source": [
    "print(\"dictionary\")\n",
    "dn={'key1':'V1','key2':'V2'}\n",
    "print(dn.keys())\n",
    "print(dn.items())"
   ]
  },
  {
   "cell_type": "code",
   "execution_count": 141,
   "metadata": {},
   "outputs": [
    {
     "name": "stdout",
     "output_type": "stream",
     "text": [
      "4 [1, 2, 3]\n",
      "[1, 3]\n"
     ]
    }
   ],
   "source": [
    "mlist=[1,2,3,4]\n",
    "last=mlist.pop()\n",
    "print(last, mlist)\n",
    "mlist.pop(1)\n",
    "print(mlist)"
   ]
  },
  {
   "cell_type": "markdown",
   "metadata": {},
   "source": [
    "<font size=2>Python pass Statement\n",
    "The pass statement is used as a placeholder for future code. When the pass statement is executed, nothing happens, but you avoid getting an error when empty code is not allowed. Empty code is not allowed in loops, function definitions, class definitions, or in if statements."
   ]
  },
  {
   "cell_type": "code",
   "execution_count": null,
   "metadata": {},
   "outputs": [],
   "source": []
  },
  {
   "cell_type": "code",
   "execution_count": null,
   "metadata": {},
   "outputs": [],
   "source": []
  },
  {
   "cell_type": "code",
   "execution_count": null,
   "metadata": {},
   "outputs": [],
   "source": []
  }
 ],
 "metadata": {
  "kernelspec": {
   "display_name": "base",
   "language": "python",
   "name": "python3"
  },
  "language_info": {
   "codemirror_mode": {
    "name": "ipython",
    "version": 3
   },
   "file_extension": ".py",
   "mimetype": "text/x-python",
   "name": "python",
   "nbconvert_exporter": "python",
   "pygments_lexer": "ipython3",
   "version": "3.11.5"
  }
 },
 "nbformat": 4,
 "nbformat_minor": 2
}
