{
 "cells": [
  {
   "cell_type": "code",
   "execution_count": 3,
   "metadata": {},
   "outputs": [],
   "source": [
    "import numpy as np"
   ]
  },
  {
   "cell_type": "markdown",
   "metadata": {},
   "source": [
    "<font size=6>Numpy notes"
   ]
  },
  {
   "cell_type": "markdown",
   "metadata": {},
   "source": [
    "<font size=5>1. Creating Arrays/Matrix/Vectors using Numpy"
   ]
  },
  {
   "cell_type": "code",
   "execution_count": 49,
   "metadata": {},
   "outputs": [
    {
     "name": "stdout",
     "output_type": "stream",
     "text": [
      "---Numpy array---\n",
      "[1, 2, 3]\n",
      "<class 'list'>\n",
      "[1 2 3]\n",
      "<class 'numpy.ndarray'>\n",
      "[[1 2 3]\n",
      " [4 5 6]\n",
      " [7 8 9]]\n",
      "<class 'numpy.ndarray'>\n",
      "\n",
      "---Zeroes Matrix---\n",
      "[0. 0. 0.]\n",
      "[[0. 0. 0. 0. 0.]\n",
      " [0. 0. 0. 0. 0.]]\n",
      "\n",
      "---Ones Matrix---\n",
      "[[1. 1. 1. 1. 1.]\n",
      " [1. 1. 1. 1. 1.]]\n",
      "\n",
      "---identity Matrix---\n",
      "[[1. 0. 0.]\n",
      " [0. 1. 0.]\n",
      " [0. 0. 1.]]\n"
     ]
    }
   ],
   "source": [
    "##\n",
    "print(\"---Numpy array---\")\n",
    "mlist=[1,2,3]\n",
    "print(mlist)\n",
    "print(type(mlist))\n",
    "nplist=np.array(mlist)\n",
    "print(nplist)\n",
    "print(type(nplist))\n",
    "\n",
    "vect=np.array([[1,2,3],[4,5,6],[7,8,9]])\n",
    "print(vect)\n",
    "print(type(vect))\n",
    "\n",
    "##\n",
    "print(\"\\n---Zeroes Matrix---\")\n",
    "npzero=np.zeros(3)\n",
    "print(npzero)\n",
    "npzero2=np.zeros((2,5))\n",
    "print(npzero2)\n",
    "##\n",
    "print(\"\\n---Ones Matrix---\")\n",
    "npone=np.ones((2,5))\n",
    "print(npone)\n",
    "##\n",
    "print(\"\\n---identity Matrix---\")\n",
    "npid=np.eye(3)\n",
    "print(npid)"
   ]
  },
  {
   "cell_type": "markdown",
   "metadata": {},
   "source": [
    "<font size=5>2. Matrix with random numbers"
   ]
  },
  {
   "cell_type": "code",
   "execution_count": 84,
   "metadata": {},
   "outputs": [
    {
     "name": "stdout",
     "output_type": "stream",
     "text": [
      "---Matrix with random values---\n",
      "[[0.37454012 0.95071431]\n",
      " [0.73199394 0.59865848]\n",
      " [0.15601864 0.15599452]]\n",
      "\n",
      " negativ [ 1.57921282  0.76743473 -0.46947439  0.54256004 -0.46341769 -0.46572975]\n",
      "\n",
      " int 75\n",
      "\n",
      " int2 [3 7 6 5 2]\n",
      "\n",
      " int3 [[2 4 4]\n",
      " [8 3 9]]\n",
      "\n",
      "---array created by Numpy---\n",
      "[0 1 2 3 4 5 6 7 8 9]\n",
      "\n",
      "---Numpy generated numbers - 2---\n",
      "[ 0.  2.  4.  6.  8. 10.]\n",
      "linspace generates equally distant numeric elements in an array. However unlike arange, instead of giving the distance/step i 3rd attribute,\n",
      "we provide how many numbers we want in the array. Also by default it also includes the last value in the array which arange() doesn't\n",
      "\n",
      "---Reshape matrix---\n",
      "[[0 1 2 3 4]\n",
      " [5 6 7 8 9]]\n"
     ]
    }
   ],
   "source": [
    "##\n",
    "npseed=np.random.seed(42) #only lets you generate a particular set of random numbers\n",
    "##\n",
    "print(\"---Matrix with random values---\")\n",
    "nprnd=np.random.rand(3,2)\n",
    "print(nprnd)\n",
    "##negative\n",
    "nprndn=np.random.randn(6)\n",
    "print(\"\\n negativ\",nprndn)\n",
    "##integers\n",
    "nprndin=np.random.randint(100) ## generates a random integer upto the given no. \n",
    "print(\"\\n int\",nprndin)\n",
    "##\n",
    "nprndin=np.random.randint(2,10,5) ## generates 5 random integers (here) between the given no.s 2 & 100 \n",
    "print(\"\\n int2\",nprndin)\n",
    "nprndin=np.random.randint(2,10,(2,3)) ## generates 5 random integers (here) between the given no.s 2 & 100 \n",
    "print(\"\\n int3\",nprndin) ## generates matrix with random integers between the given no.s 2 & 10, and given size 2x3\n",
    "##\n",
    "\n",
    "##\n",
    "print(\"\\n---array created by Numpy---\")\n",
    "nplist2=np.arange(0,10)\n",
    "print(nplist2)\n",
    "npvect=np.arange(0,10)\n",
    "##\n",
    "print(\"\\n---Reshape matrix---\")\n",
    "npvect2=np.arange(0,10).reshape(2,5)\n",
    "print(npvect2)\n",
    "##\n",
    "print(\"\\n---Numpy generated numbers - 2---\")\n",
    "nplist3=np.linspace(0,10,6)\n",
    "print(nplist3)\n",
    "print(\"linspace generates equally distant numeric elements in an array. However unlike arange, instead of giving the distance/step i 3rd attribute,\\nwe provide how many numbers we want in the array. Also by default it also includes the last value in the array which arange() doesn't\")\n",
    "##\n"
   ]
  },
  {
   "cell_type": "markdown",
   "metadata": {},
   "source": [
    "<font size=5>3. Matrix Properties"
   ]
  },
  {
   "cell_type": "code",
   "execution_count": 104,
   "metadata": {},
   "outputs": [
    {
     "name": "stdout",
     "output_type": "stream",
     "text": [
      "---Max, Min---\n",
      "[17 19 17  5 13]\n",
      "min= 5\n",
      "max= 19\n",
      "min index= 3\n",
      "max index= 1\n",
      "int32\n"
     ]
    },
    {
     "data": {
      "text/plain": [
       "5"
      ]
     },
     "execution_count": 104,
     "metadata": {},
     "output_type": "execute_result"
    }
   ],
   "source": [
    "##\n",
    "print(\"---Max, Min---\")\n",
    "nprand=np.random.randint(5,20,5)\n",
    "print(nprand)\n",
    "print(\"min=\",nprand.min())\n",
    "print(\"max=\",nprand.max())\n",
    "\n",
    "##index of max and min\n",
    "print(\"min index=\",nprand.argmin())\n",
    "print(\"max index=\",nprand.argmax())\n",
    "\n",
    "##type\n",
    "print(\"---type---\")\n",
    "print(nprand.dtype)\n",
    "\n",
    "##length\n",
    "print(\"---length---\")\n",
    "len(nprand)"
   ]
  }
 ],
 "metadata": {
  "kernelspec": {
   "display_name": "base",
   "language": "python",
   "name": "python3"
  },
  "language_info": {
   "codemirror_mode": {
    "name": "ipython",
    "version": 3
   },
   "file_extension": ".py",
   "mimetype": "text/x-python",
   "name": "python",
   "nbconvert_exporter": "python",
   "pygments_lexer": "ipython3",
   "version": "3.11.5"
  }
 },
 "nbformat": 4,
 "nbformat_minor": 2
}
